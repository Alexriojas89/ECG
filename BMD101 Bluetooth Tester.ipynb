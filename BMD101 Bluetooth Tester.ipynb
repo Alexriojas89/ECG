{
 "cells": [
  {
   "cell_type": "markdown",
   "metadata": {},
   "source": [
    "#Communications with BMD101 over Bluetooth Serial Port on OSX\n",
    "\n",
    "see: http://pyserial.readthedocs.org/en/latest/shortintro.html"
   ]
  },
  {
   "cell_type": "code",
   "execution_count": 1,
   "metadata": {
    "collapsed": true
   },
   "outputs": [],
   "source": [
    "%matplotlib inline"
   ]
  },
  {
   "cell_type": "code",
   "execution_count": 2,
   "metadata": {
    "collapsed": true
   },
   "outputs": [],
   "source": [
    "import os\n",
    "import sys\n",
    "import io\n",
    "import math\n",
    "import numpy as np\n",
    "from scipy import signal\n",
    "from matplotlib import pyplot as plt\n",
    "from pprint import pprint\n",
    "import time\n",
    "import struct\n",
    "import pickle"
   ]
  },
  {
   "cell_type": "code",
   "execution_count": 3,
   "metadata": {
    "collapsed": false
   },
   "outputs": [],
   "source": [
    "import serial\n",
    "import serial.tools\n",
    "import serial.tools.list_ports"
   ]
  },
  {
   "cell_type": "markdown",
   "metadata": {},
   "source": [
    "#Documentation\n",
    "\n",
    "###Output Format\n",
    "####Data Row\n",
    " - Sync 0xAA\n",
    " - Sync 0xAA\n",
    " - pLength - payload length in bytes\n",
    " - payload[]\n",
    " - CRC - 8-but checksum - bitInverse(lowestByte(sumOfBytes(payload)))\n",
    " \n",
    "####Payload Format\n",
    "- Excode 0x55... (0 or mode bytes)\n",
    "- Code - byte\n",
    "- vLength - byte (only if code >= 0x80, otherwise vLength = 1)\n",
    "- value[]\n",
    "\n",
    "####Codes\n",
    "- Single-Byte CODEs (extended code level = 0)\n",
    " - 0x02 -- POOR_SIGNAL Quality (0 or 200) \n",
    " - 0x03 -- HEART_RATE Value (0 to 255)\n",
    " - 0x08 -- CONFIG_BYTE (0 to 255)\n",
    "- Multi-Byte CODEs (extended code level = 0)\n",
    " - 0x80 -- RAW Wave Value: a single big-endian 16-bit two's-compliment signed value (high-order byte followed by low-order byte) (-32768 to 32767)\n",
    " - 0x84 -- DEBUG_1\n",
    " - 0x85 -- DEBUG_2\n",
    "- Multi-Byte CODEs (extended code level = any)\n",
    " - 0x55 -- NEVER USED (reserved for [EXCODE]) \n",
    " - 0xAA -- NEVER USED (reserved for [SYNC])\n",
    " \n",
    "###Input Format"
   ]
  },
  {
   "cell_type": "markdown",
   "metadata": {},
   "source": [
    "#Config"
   ]
  },
  {
   "cell_type": "code",
   "execution_count": 4,
   "metadata": {
    "collapsed": false
   },
   "outputs": [],
   "source": [
    "BMD101_CODES = {\n",
    "    # Single-Byte CODEs (extended code level = 0)\n",
    "    0x02: 'POOR_SIGNAL',      # 0 or 200\n",
    "    0x03: 'HEART_RATE Value', # (0 to 255)\n",
    "    0x08: 'CONFIG_BYTE',      # (0 to 255)\n",
    "    \n",
    "    # Multi-Byte CODEs (extended code level = 0)\n",
    "    0x80 : 'RAW Wave Value', # a single big-endian 16-bit two's-compliment signed value\n",
    "                             # (high-order byte followed by low-order byte) (-32768 to 32767)\n",
    "    0x84 : 'DEBUG_1',\n",
    "    0x85 : 'DEBUG_2',\n",
    "    \n",
    "    #Multi-Byte CODEs (extended code level = any)\n",
    "    0x55 : 'NEVER USED', # (reserved for [EXCODE])\n",
    "    0xAA : 'NEVER USED', # (reserved for [SYNC])\n",
    "    } \n",
    "\n",
    "BMD101_PREAMBLE=\"\\xAA\\xAA\"\n",
    "BMD101_EXCODE=\"\\x55\"\n",
    "\n",
    "\n",
    "BMD101_SERIAL_PORT = False"
   ]
  },
  {
   "cell_type": "markdown",
   "metadata": {},
   "source": [
    "#Code"
   ]
  },
  {
   "cell_type": "code",
   "execution_count": 5,
   "metadata": {
    "collapsed": true
   },
   "outputs": [],
   "source": [
    "def findBMS101():\n",
    "    for portInfo in serial.tools.list_ports.comports():\n",
    "        if 'sichiray' in portInfo.device:\n",
    "            return portInfo.device\n",
    "    return None"
   ]
  },
  {
   "cell_type": "code",
   "execution_count": 6,
   "metadata": {
    "collapsed": true
   },
   "outputs": [],
   "source": [
    "def resetECG():\n",
    "    global BMD101_SERIAL_PORT\n",
    "    \n",
    "    if BMD101_SERIAL_PORT and BMD101_SERIAL_PORT.is_open:\n",
    "        print 'Closing ECG'\n",
    "        BMD101_SERIAL_PORT.close()\n",
    "    else:\n",
    "        print \"ECG already closed\""
   ]
  },
  {
   "cell_type": "code",
   "execution_count": 7,
   "metadata": {
    "collapsed": true
   },
   "outputs": [],
   "source": [
    "def convert16(bytes):\n",
    "    if len(bytes) != 2:\n",
    "        print len(bytes), [ord(x) for x in bytes]\n",
    "        return -1\n",
    "    \n",
    "    \"\"\"Parses signed 16-bit int\"\"\"\n",
    "    return struct.unpack('>h', bytes)"
   ]
  },
  {
   "cell_type": "code",
   "execution_count": 8,
   "metadata": {
    "collapsed": false
   },
   "outputs": [],
   "source": [
    "LAST_LARGE_PAYLOAD = \"\"\n",
    "\n",
    "def parsePayload(payload, debug=False):\n",
    "    global LAST_LARGE_PAYLOAD \n",
    "    result = []\n",
    "    if len(payload) > 4:\n",
    "        LAST_LARGE_PAYLOAD  = payload\n",
    "        if debug:\n",
    "            print len(payload), [ord(x) for x in payload]\n",
    "    while len(payload) > 0:\n",
    "        # ignore excode for now\n",
    "        offset = 0\n",
    "        while payload[offset] == BMD101_EXCODE: # ignore excode for now\n",
    "            offset += 1\n",
    "\n",
    "        bmd101Code = ord(payload[offset])\n",
    "        if bmd101Code in BMD101_CODES:\n",
    "            bmd101CodeName = BMD101_CODES[bmd101Code]\n",
    "        else:\n",
    "            bmd101CodeName = 'unknown'\n",
    "\n",
    "        if bmd101Code >= 0x80: # Determine if single byte vs multi-byte transfer\n",
    "            vLen=ord(payload[offset+1])\n",
    "            pLen = offset+2+vLen\n",
    "            data = payload[offset+2:pLen]\n",
    "            \n",
    "            if bmd101Code == 0x80:\n",
    "                data = [convert16(data[i*2:i*2+2]) for i in range(0, len(data), 2)]\n",
    "            else:\n",
    "                data = [ord(x) for x in data]\n",
    "        else:\n",
    "            data = ord(payload[offset+1])\n",
    "            pLen = offset+2\n",
    "            vLen=1\n",
    "\n",
    "        result.append({'Code':bmd101Code, 'Hex':'{:02x}'.format(bmd101Code), 'Name':bmd101CodeName, \n",
    "                'data':data, 'vLen':vLen, 'payload':[ord(x) for x in payload[0:pLen]]})\n",
    "        payload = payload[pLen:]\n",
    "\n",
    "    if debug and len(result) > 1:\n",
    "        pprint(result)\n",
    "    return result"
   ]
  },
  {
   "cell_type": "raw",
   "metadata": {},
   "source": [
    "if DEBUG_LARGE_PAYLOAD:\n",
    "    parsePayload(DEBUG_LARGE_PAYLOAD)"
   ]
  },
  {
   "cell_type": "code",
   "execution_count": 9,
   "metadata": {
    "collapsed": true
   },
   "outputs": [],
   "source": [
    "def verifyCRC(payload, crc):\n",
    "    computedCRC = (sum([ord(x) for x in payload]) & 0xff) ^ 0xff\n",
    "    return computedCRC == crc"
   ]
  },
  {
   "cell_type": "code",
   "execution_count": 10,
   "metadata": {
    "collapsed": false
   },
   "outputs": [],
   "source": [
    "# Minimal packet\n",
    "# 2 bytes - Premable\n",
    "# 1 byte len\n",
    "# 2 Bytes Payload\n",
    "#    1 byte code\n",
    "#    1 byte data\n",
    "# 1 byte CRC\n",
    "\n",
    "\n",
    "def parseDataRows(rawData, minPacketSize=6):\n",
    "    entries = []\n",
    "    totalRawChars = len(rawData)\n",
    "    begin = 0\n",
    "    while begin+minPacketSize < totalRawChars:\n",
    "        # Search for preamble\n",
    "        pos = str.find(rawData, BMD101_PREAMBLE, begin)\n",
    "        if pos == -1: # not more sequences\n",
    "            break\n",
    "        begin = pos   # ignore everything before preamble in the future\n",
    "        \n",
    "        pLen=ord(rawData[begin+2])\n",
    "        actualPacketSize = 2 + 1 + pLen + 1 # preamble, len, payload, crc\n",
    "        \n",
    "        if begin + actualPacketSize > totalRawChars:\n",
    "            break\n",
    "            \n",
    "        payload = rawData[begin+3:begin+3+pLen]\n",
    "        crc = ord(rawData[begin+3+pLen])\n",
    "        begin +=  actualPacketSize\n",
    "        # To Do:  Verify CRC  \n",
    "        if verifyCRC(payload, crc):\n",
    "            entries += parsePayload(payload)\n",
    "        else:\n",
    "            print 'parseDataRows: Ignored packet due to CRC error'\n",
    "        \n",
    "\n",
    "        # To Do:  Parse Payload\n",
    "  \n",
    "    return entries, rawData[begin:]  # return parsed entries and residual"
   ]
  },
  {
   "cell_type": "code",
   "execution_count": 11,
   "metadata": {
    "collapsed": false
   },
   "outputs": [],
   "source": [
    "def captureRawECG(limitCount = 1000, limitSamples = 200, delay=None):\n",
    "    global BMD101_SERIAL_PORT\n",
    "    \n",
    "    if not BMD101_SERIAL_PORT:\n",
    "        BMD101_SERIAL_PORT = serial.Serial()\n",
    "        BMD101_SERIAL_PORT.port = findBMS101()\n",
    "    \n",
    "    if not BMD101_SERIAL_PORT.is_open:\n",
    "        BMD101_SERIAL_PORT.open()\n",
    "        if not BMD101_SERIAL_PORT.is_open:\n",
    "            print 'Unable to open BMD101'\n",
    "            sys.stdout.flush()\n",
    "            raise Exception\n",
    "    \n",
    "    if delay:\n",
    "        time.sleep(0.01)\n",
    "    print 'Starting Data Capture'\n",
    "    sys.stdout.flush()\n",
    "    \n",
    "    rawData = \"\"\n",
    "    count = 0\n",
    "    while count < limitCount and len(rawData) < limitSamples:\n",
    "        count += 1\n",
    "        data = BMD101_SERIAL_PORT.read() \n",
    "        if data:\n",
    "            rawData = rawData + data\n",
    "        time.sleep(0.01)\n",
    "            \n",
    "#     if BMD101_SERIAL_PORT.is_open:\n",
    "#         BMD101_SERIAL_PORT.close()            \n",
    "    return rawData"
   ]
  },
  {
   "cell_type": "code",
   "execution_count": 12,
   "metadata": {
    "collapsed": true
   },
   "outputs": [],
   "source": [
    "#see: \n",
    "\n",
    "def bmd101SendCommand(configByte):\n",
    "    global BMD101_SERIAL_PORT\n",
    "    configCommand = ''.join([chr(x) for x in [0xAA, 0xAA, 0x04, 0x03, 0x40, 0xF9, 0x00, configByte]])\n",
    "    BMD101_SERIAL_PORT.write(configCommand)\n",
    "    BMD101_SERIAL_PORT.flush()\n",
    "    return"
   ]
  },
  {
   "cell_type": "code",
   "execution_count": 13,
   "metadata": {
    "collapsed": true
   },
   "outputs": [],
   "source": [
    "#see: http://developer.neurosky.com/docs/doku.php?id=thinkgear_communications_protocol#thinkgear_command_bytes\n",
    "\n",
    "def changeBaud(configByte = 0x02, timeout=20):\n",
    "    global BMD101_SERIAL_PORT\n",
    "\n",
    "\n",
    "    \n",
    "    # make sure device is active\n",
    "    newData = captureRawECG(limitCount = 100, limitSamples = 2)\n",
    "    if len(newData) == 0:\n",
    "        print 'changeBaud: Device not responding, unable to change baud rate'\n",
    "        return False\n",
    "    \n",
    "    if not BMD101_SERIAL_PORT.is_open:\n",
    "        print 'unable to open BMD101 serial port'\n",
    "        return False\n",
    "    \n",
    "    if BMD101_SERIAL_PORT.baudrate != 57600:\n",
    "        bmd101SendCommand(configByte)\n",
    "        time.sleep(0.1)\n",
    "        BMD101_SERIAL_PORT.baudrate = 57600\n",
    "        \n",
    "    return True"
   ]
  },
  {
   "cell_type": "markdown",
   "metadata": {},
   "source": [
    "#Interaction"
   ]
  },
  {
   "cell_type": "code",
   "execution_count": 14,
   "metadata": {
    "collapsed": false
   },
   "outputs": [
    {
     "name": "stdout",
     "output_type": "stream",
     "text": [
      "Starting Data Capture\n"
     ]
    },
    {
     "data": {
      "text/plain": [
       "True"
      ]
     },
     "execution_count": 14,
     "metadata": {},
     "output_type": "execute_result"
    }
   ],
   "source": [
    "changeBaud()"
   ]
  },
  {
   "cell_type": "code",
   "execution_count": 15,
   "metadata": {
    "collapsed": false
   },
   "outputs": [
    {
     "name": "stdout",
     "output_type": "stream",
     "text": [
      "Starting Data Capture\n",
      "Starting Data Capture\n",
      "Starting Data Capture\n",
      "Total Raw Data:15000 Total Packets:1880\n"
     ]
    }
   ],
   "source": [
    "#resetECG()\n",
    "totalRawData = 0\n",
    "allEntries = []\n",
    "rawData = \"\"\n",
    "count = 3\n",
    "startTime =  time.time()\n",
    "while count > 0 :\n",
    "    count -= 1\n",
    "    newData = captureRawECG(limitCount = 10000, limitSamples = 5000)\n",
    "    rawData += newData\n",
    "    totalRawData += len(newData)\n",
    "    sys.stdout.flush()\n",
    "    entries, rawData = parseDataRows(rawData)\n",
    "    allEntries += entries\n",
    "\n",
    "totalTime = time.time() - startTime\n",
    "print 'Total Raw Data:{} Total Packets:{}'.format(totalRawData, len(allEntries))\n",
    "DEBUG_LARGE_PAYLOAD = LAST_LARGE_PAYLOAD"
   ]
  },
  {
   "cell_type": "raw",
   "metadata": {},
   "source": [
    "allEntries = allEntries[:1200]"
   ]
  },
  {
   "cell_type": "code",
   "execution_count": 16,
   "metadata": {
    "collapsed": false
   },
   "outputs": [
    {
     "name": "stdout",
     "output_type": "stream",
     "text": [
      "Total Raw Data:15000 Total Packets:1880\n",
      "\n",
      "[{'Code': 2,\n",
      "  'Hex': '02',\n",
      "  'Name': 'POOR_SIGNAL',\n",
      "  'data': 200,\n",
      "  'payload': [2, 200],\n",
      "  'vLen': 1},\n",
      " {'Code': 2,\n",
      "  'Hex': '02',\n",
      "  'Name': 'POOR_SIGNAL',\n",
      "  'data': 200,\n",
      "  'payload': [2, 200],\n",
      "  'vLen': 1},\n",
      " {'Code': 2,\n",
      "  'Hex': '02',\n",
      "  'Name': 'POOR_SIGNAL',\n",
      "  'data': 200,\n",
      "  'payload': [2, 200],\n",
      "  'vLen': 1}]\n"
     ]
    }
   ],
   "source": [
    "print 'Total Raw Data:{} Total Packets:{}'.format(totalRawData, len(allEntries))\n",
    "print\n",
    "pprint([entry for entry in allEntries if entry['Code'] == 2]) "
   ]
  },
  {
   "cell_type": "code",
   "execution_count": 17,
   "metadata": {
    "collapsed": false
   },
   "outputs": [
    {
     "name": "stdout",
     "output_type": "stream",
     "text": [
      "[{'Code': 3,\n",
      "  'Hex': '03',\n",
      "  'Name': 'HEART_RATE Value',\n",
      "  'data': 71,\n",
      "  'payload': [3, 71],\n",
      "  'vLen': 1},\n",
      " {'Code': 3,\n",
      "  'Hex': '03',\n",
      "  'Name': 'HEART_RATE Value',\n",
      "  'data': 71,\n",
      "  'payload': [3, 71],\n",
      "  'vLen': 1},\n",
      " {'Code': 3,\n",
      "  'Hex': '03',\n",
      "  'Name': 'HEART_RATE Value',\n",
      "  'data': 95,\n",
      "  'payload': [3, 95],\n",
      "  'vLen': 1}]\n"
     ]
    }
   ],
   "source": [
    "pprint([entry for entry in allEntries if entry['Code'] == 3]) "
   ]
  },
  {
   "cell_type": "code",
   "execution_count": 18,
   "metadata": {
    "collapsed": false,
    "scrolled": false
   },
   "outputs": [
    {
     "name": "stdout",
     "output_type": "stream",
     "text": [
      "['110001', '110001', '110001']\n",
      "[{'Code': 8,\n",
      "  'Hex': '08',\n",
      "  'Name': 'CONFIG_BYTE',\n",
      "  'data': 49,\n",
      "  'payload': [8, 49],\n",
      "  'vLen': 1},\n",
      " {'Code': 8,\n",
      "  'Hex': '08',\n",
      "  'Name': 'CONFIG_BYTE',\n",
      "  'data': 49,\n",
      "  'payload': [8, 49],\n",
      "  'vLen': 1},\n",
      " {'Code': 8,\n",
      "  'Hex': '08',\n",
      "  'Name': 'CONFIG_BYTE',\n",
      "  'data': 49,\n",
      "  'payload': [8, 49],\n",
      "  'vLen': 1}]\n"
     ]
    }
   ],
   "source": [
    "pprint(['{:2b}'.format(entry['data']) for entry in allEntries if entry['Code'] ==8 ]) \n",
    "\n",
    "pprint([entry for entry in allEntries if entry['Code'] not in [2, 3, 128, 132, 133]]) "
   ]
  },
  {
   "cell_type": "code",
   "execution_count": 19,
   "metadata": {
    "collapsed": false
   },
   "outputs": [
    {
     "name": "stdout",
     "output_type": "stream",
     "text": [
      "Total Samples: 1865  Sampling Rate: 0.098  Samples per Second: 10\n"
     ]
    }
   ],
   "source": [
    "measurements = np.array([entry['data'][0] for entry in allEntries if entry['Code'] == 128])\n",
    "timescale = np.linspace(0, totalTime, len(measurements))\n",
    "samplingRate = float(totalTime)/ len(measurements)\n",
    "samplesPerSecond = round(1.0 / samplingRate, 0)\n",
    "print 'Total Samples: {}  Sampling Rate: {:0.3f}  Samples per Second: {:0.0f}'.format(len(measurements), samplingRate, samplesPerSecond)"
   ]
  },
  {
   "cell_type": "code",
   "execution_count": 20,
   "metadata": {
    "collapsed": false
   },
   "outputs": [
    {
     "data": {
      "image/png": "[encoded data removed]",
      "text/plain": [
       "<matplotlib.figure.Figure at 0x10a2928d0>"
      ]
     },
     "metadata": {},
     "output_type": "display_data"
    }
   ],
   "source": [
    "plt.figure(figsize=(12, 4))\n",
    "plt.title(\"Sample ECG\", fontsize=12)\n",
    "plt.plot((timescale / 60.0), -measurements)\n",
    "plt.xlabel('Time in Min')\n",
    "plt.ylabel('Signal')\n",
    "plt.show()"
   ]
  },
  {
   "cell_type": "code",
   "execution_count": 21,
   "metadata": {
    "collapsed": true
   },
   "outputs": [],
   "source": [
    "pickle.dump( allEntries, open( \"ecg6.p\", \"wb\" ) )"
   ]
  },
  {
   "cell_type": "code",
   "execution_count": null,
   "metadata": {
    "collapsed": true
   },
   "outputs": [],
   "source": []
  },
  {
   "cell_type": "code",
   "execution_count": null,
   "metadata": {
    "collapsed": true
   },
   "outputs": [],
   "source": []
  }
 ],
 "metadata": {
  "kernelspec": {
   "display_name": "Python 2",
   "language": "python",
   "name": "python2"
  },
  "language_info": {
   "codemirror_mode": {
    "name": "ipython",
    "version": 2
   },
   "file_extension": ".py",
   "mimetype": "text/x-python",
   "name": "python",
   "nbconvert_exporter": "python",
   "pygments_lexer": "ipython2",
   "version": "2.7.9"
  }
 },
 "nbformat": 4,
 "nbformat_minor": 0
}
